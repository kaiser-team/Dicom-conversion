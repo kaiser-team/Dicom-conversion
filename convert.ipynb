{
 "cells": [
  {
   "cell_type": "code",
   "execution_count": 37,
   "metadata": {},
   "outputs": [
    {
     "name": "stdout",
     "output_type": "stream",
     "text": [
      "150 image converted\n"
     ]
    }
   ],
   "source": [
    "import pydicom as dicom\n",
    "import os\n",
    "import cv2\n",
    "\n",
    "def makedir():\n",
    "    parent_dir  = os.getcwd()\n",
    "    directory = \"convertedPNG\"\n",
    "\n",
    "    # remove the PNF  directory if it exists.\n",
    "    if os.path.exists(parent_dir+\"/convertedPNG\"):\n",
    "        os.system(\"rm -rf \"+ parent_dir+\"/convertedPNG\")\n",
    "\n",
    "    path = os.path.join(parent_dir, directory) \n",
    "    os.mkdir(path) \n",
    "\n",
    "    #change the filename for  other Dicom folder.\n",
    "    folder_path = parent_dir + \"/Ankle\"\n",
    "    jpg_folder_path = parent_dir + \"/convertedPNG\"\n",
    "    \n",
    "    return folder_path, jpg_folder_path\n",
    "\n",
    "\n",
    "\n",
    "def conversion(dicom_path, png_path):\n",
    "    PNG = True # make it True if you want in PNG format\n",
    "    total_conversion =  0\n",
    "        \n",
    "    images_path = os.listdir(dicom_path)\n",
    "    for n, image in enumerate(images_path):\n",
    "        try:\n",
    "            ds = dicom.dcmread(os.path.join(dicom_path, image))\n",
    "            pixel_array_numpy = ds.pixel_array\n",
    "            if PNG == False:\n",
    "                image = image.replace('.dcm', '.jpg')\n",
    "            else:\n",
    "                image = image.replace('.dcm', '.png')\n",
    "            cv2.imwrite(os.path.join(png_path, image), pixel_array_numpy)\n",
    "            total_conversion += 1\n",
    "    \n",
    "        except:\n",
    "            pass\n",
    "        \n",
    "    print('%s image converted'% total_conversion)\n",
    "\n",
    "\n",
    "paths = makedir()\n",
    "conversion(paths[0], paths[1])"
   ]
  },
  {
   "cell_type": "code",
   "execution_count": null,
   "metadata": {},
   "outputs": [],
   "source": []
  }
 ],
 "metadata": {
  "kernelspec": {
   "display_name": "Python 3",
   "language": "python",
   "name": "python3"
  },
  "language_info": {
   "codemirror_mode": {
    "name": "ipython",
    "version": 3
   },
   "file_extension": ".py",
   "mimetype": "text/x-python",
   "name": "python",
   "nbconvert_exporter": "python",
   "pygments_lexer": "ipython3",
   "version": "3.7.4"
  }
 },
 "nbformat": 4,
 "nbformat_minor": 2
}
