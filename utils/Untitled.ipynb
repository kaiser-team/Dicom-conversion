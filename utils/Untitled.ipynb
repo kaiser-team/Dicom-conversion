{
 "cells": [
  {
   "cell_type": "code",
   "execution_count": 56,
   "metadata": {},
   "outputs": [],
   "source": [
    "import os\n",
    "import sys\n",
    "\n",
    "import cv2\n",
    "import numpy as np\n",
    "import pydicom as dicom\n",
    "\n",
    "import logging"
   ]
  },
  {
   "cell_type": "code",
   "execution_count": 57,
   "metadata": {},
   "outputs": [],
   "source": [
    "def setup_dest(dest_path):\n",
    "    # Check if the destination exists and is a directory.\n",
    "    if os.path.exists(dest_path) and os.path.isdir(dest_path):\n",
    "        return\n",
    "    # Create a directory specified at the destination path. If this fails, the program will terminate.\n",
    "    try:\n",
    "        os.mkdir(dest_path)\n",
    "    except OSError:\n",
    "        logging.critical('Could not create or access destination folder', exc_info=True)\n",
    "        exit(1)"
   ]
  },
  {
   "cell_type": "code",
   "execution_count": 58,
   "metadata": {},
   "outputs": [],
   "source": [
    "def conversion(dicom_path, dest_path, file_format):\n",
    "    formats = {\n",
    "        'PNG': '.png',\n",
    "        'JPEG':'.jpg',\n",
    "        'BMP': '.bmp'\n",
    "    }\n",
    "    image_list = []\n",
    "\n",
    "    # Checks if the source is a file or a folder. Add all relevant files to the image list.\n",
    "    if dicom_path.endswith('.dcm'):\n",
    "        dicom_path, image = os.path.split(dicom_path)\n",
    "        image_list.append(image)\n",
    "        logging.info('Identified source as a single DCM file with name %s', image_list[0])\n",
    "    else:\n",
    "        image_list = os.listdir(dicom_path)\n",
    "        logging.info('Identified source folder with %d files', len(image_list))\n",
    "\n",
    "    total_conversion = 0\n",
    "    for image in image_list:\n",
    "        try:\n",
    "            ds = dicom.dcmread(os.path.join(dicom_path, image))\n",
    "            shape = ds.pixel_array.shape\n",
    "\n",
    "            image_2d = ds.pixel_array.astype(float)\n",
    "\n",
    "            image_2d_scaled = (np.maximum(image_2d, 0) / image_2d.max()) * 255.0\n",
    "\n",
    "            image_2d_scaled = np.uint8(image_2d_scaled)\n",
    "\n",
    "            # Replace filename with the corresponding extension\n",
    "            image = image.replace('.dcm', formats[file_format]) \n",
    "\n",
    "            cv2.imwrite(os.path.join(dest_path, image), image_2d_scaled)\n",
    "\n",
    "            logging.info('Successfully converted %s', image)\n",
    "            total_conversion += 1\n",
    "        except Exception as e:\n",
    "            logging.warning('Could not convert %s', image)\n",
    "            logging.debug(exc_info=True)\n",
    "    logging.info('Successfully converted %d files', total_conversion)\n"
   ]
  },
  {
   "cell_type": "code",
   "execution_count": 59,
   "metadata": {},
   "outputs": [],
   "source": [
    "def print_usage():\n",
    "    print('Usage: \\npython dicomConverter.py [src] [dest_folder] [file_format]\\n\\\n",
    "        Flags: -q | --quiet: Convert images without logging info. Warnings are still logged\\\n",
    "        Refer to README for more information.')"
   ]
  },
  {
   "cell_type": "code",
   "execution_count": 51,
   "metadata": {},
   "outputs": [],
   "source": [
    "src = '/c/Users/anoel/Documents/Year\\ 4\\ Quarter\\ 3/cs199/utils/LIDC-IDRI-0001-20200416T172708Z-001/LIDC-IDRI-0001/01-01-2000-30178/3000566.000000-03192'\n",
    "dest_folder = '/c/Users/anoel/Documents/Year\\ 4\\ Quarter\\ 3/cs199/utils/converted'\n",
    "file_format = 'PNG'"
   ]
  },
  {
   "cell_type": "code",
   "execution_count": 60,
   "metadata": {},
   "outputs": [
    {
     "name": "stderr",
     "output_type": "stream",
     "text": [
      "CRITICAL: Could not create or access destination folder\n",
      "Traceback (most recent call last):\n",
      "  File \"<ipython-input-57-53fe528cceda>\", line 7, in setup_dest\n",
      "    os.mkdir(dest_path)\n",
      "FileNotFoundError: [WinError 3] The system cannot find the path specified: '\\\\c\\\\Users\\\\anoel\\\\Documents\\\\Year 4 Quarter 3\\\\cs199\\\\utils\\\\converted'\n"
     ]
    }
   ],
   "source": [
    "try:\n",
    "    setup_dest(dest_folder)\n",
    "    #conversion(src, dest_folder, file_format.upper())\n",
    "except ValueError:\n",
    "    print_usage()"
   ]
  },
  {
   "cell_type": "code",
   "execution_count": 7,
   "metadata": {},
   "outputs": [
    {
     "name": "stdout",
     "output_type": "stream",
     "text": [
      "Usage: \n",
      "python dicomConverter.py [src] [dest_folder] [file_format]\n",
      "        Flags: -q | --quiet: Convert images without logging info. Warnings are still logged        Refer to README for more information.\n"
     ]
    }
   ],
   "source": [
    "if __name__ == \"__main__\":\n",
    "    if len(sys.argv) == 1 or '--help' in sys.argv or '-h' in sys.argv:\n",
    "        print_usage()\n",
    "        quit()\n",
    "    # Set up options, if they are passed through command-line.\n",
    "    options = None\n",
    "    if len(sys.argv) > 4:\n",
    "        options = set(sys.argv[4:])\n",
    "    \n",
    "    if options:\n",
    "        if '-q' in options  or '--quiet' in options:\n",
    "            logging.basicConfig(level=logging.WARNING, format='%(levelname)s: %(message)s')\n",
    "        if '-d' in options or '--debug' in options:\n",
    "            logging.basicConfig(level=logging.DEBUG, format='%(levelname)s: %(message)s')\n",
    "    else:\n",
    "        logging.basicConfig(level=logging.INFO, format='%(levelname)s: %(message)s')\n",
    "    \n",
    "    try:\n",
    "        src, dest_folder, file_format = sys.argv[1:4]\n",
    "        setup_dest(dest_folder)\n",
    "        conversion(src, dest_folder, file_format.upper())\n",
    "    except ValueError:\n",
    "        print_usage()"
   ]
  },
  {
   "cell_type": "code",
   "execution_count": null,
   "metadata": {},
   "outputs": [],
   "source": []
  }
 ],
 "metadata": {
  "kernelspec": {
   "display_name": "Python 3",
   "language": "python",
   "name": "python3"
  },
  "language_info": {
   "codemirror_mode": {
    "name": "ipython",
    "version": 3
   },
   "file_extension": ".py",
   "mimetype": "text/x-python",
   "name": "python",
   "nbconvert_exporter": "python",
   "pygments_lexer": "ipython3",
   "version": "3.7.1"
  }
 },
 "nbformat": 4,
 "nbformat_minor": 2
}
